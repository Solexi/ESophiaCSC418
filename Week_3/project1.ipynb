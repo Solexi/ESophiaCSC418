{
 "cells": [
  {
   "cell_type": "code",
   "execution_count": 1,
   "metadata": {},
   "outputs": [],
   "source": [
    "# Import libraries\n",
    "import cv2\n",
    "import numpy as np\n",
    "import matplotlib.pyplot as plt\n"
   ]
  },
  {
   "cell_type": "code",
   "execution_count": null,
   "metadata": {},
   "outputs": [],
   "source": [
    "collections = {\"traditional\": [\"img/benin-head.jpg\", \"img/gelede.JPG\", \"img/yoruba-face.jpg\", \"img/ife.jpg\", \"img/igbo-ukwu.jpg\"], \"modern\": [\"img/nnamdi-azikiwe.jpg\", \"img/iya-abikun.jpg\", \"img/igo.jpg\", \"img/red-sky.jpg\", \"img/sokeke.jpg\"], \"contemporary\": [\"img/okeosisi.JPG\", \"img/birds.jpg\", \"img/homebond.jpg\", \"img/milkmaids.jpg\", \"img/widowhood.jpg\"]}"
   ]
  },
  {
   "cell_type": "markdown",
   "metadata": {},
   "source": [
    "##### Image Translation"
   ]
  },
  {
   "cell_type": "code",
   "execution_count": null,
   "metadata": {},
   "outputs": [],
   "source": [
    "def image_translation(img):\n",
    "    art_img = cv.imread('img/sst.jpg', 0) #the 0 is for gray scale images\n",
    "    rows, cols = art_img.shape\n",
    "\n",
    "    plt.subplot(1, 2, 1)\n",
    "    plt.title(\"Original\")\n",
    "    plt.imshow(img)\n"
   ]
  }
 ],
 "metadata": {
  "kernelspec": {
   "display_name": "Python 3",
   "language": "python",
   "name": "python3"
  },
  "language_info": {
   "codemirror_mode": {
    "name": "ipython",
    "version": 3
   },
   "file_extension": ".py",
   "mimetype": "text/x-python",
   "name": "python",
   "nbconvert_exporter": "python",
   "pygments_lexer": "ipython3",
   "version": "3.11.4"
  }
 },
 "nbformat": 4,
 "nbformat_minor": 2
}
