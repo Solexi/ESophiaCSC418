{
 "cells": [
  {
   "cell_type": "markdown",
   "metadata": {},
   "source": [
    "# Edge Detection"
   ]
  },
  {
   "cell_type": "markdown",
   "metadata": {},
   "source": [
    "##### Sobel Operator"
   ]
  },
  {
   "cell_type": "code",
   "execution_count": 9,
   "metadata": {},
   "outputs": [],
   "source": [
    "import cv2\n",
    "import numpy as np\n",
    "\n",
    "# Load the image\n",
    "image = cv2.imread('img/oyinda.jpg', cv2.IMREAD_GRAYSCALE)\n",
    "\n",
    "# resize images\n",
    "image = cv2.resize(image, (500, 400))\n",
    "\n",
    "# Apply Sobel edge detection\n",
    "sobel_x = cv2.Sobel(image, cv2.CV_64F, 1, 0, ksize=1)\n",
    "sobel_y = cv2.Sobel(image, cv2.CV_64F, 0, 1, ksize=1)\n",
    "\n",
    "# Combine the gradient images\n",
    "sobel_combined = cv2.magnitude(sobel_x, sobel_y)\n",
    "\n",
    "# Display the original image and the Sobel edges\n",
    "cv2.imshow('Original', image)\n",
    "cv2.imshow('Sobel Edges', np.uint8(sobel_combined))\n",
    "# cv2.imshow('Sobel Edges', sobel_combined)\n",
    "\n",
    "# Wait for a key press and then clean up\n",
    "cv2.waitKey(0)\n",
    "cv2.destroyAllWindows()"
   ]
  },
  {
   "cell_type": "markdown",
   "metadata": {},
   "source": [
    "##### Prewitt Operator "
   ]
  },
  {
   "cell_type": "code",
   "execution_count": 11,
   "metadata": {},
   "outputs": [],
   "source": [
    "import cv2\n",
    "import numpy as np\n",
    "\n",
    "# Laod the image\n",
    "image = cv2.imread('img/abba.jpg', cv2.IMREAD_GRAYSCALE)\n",
    "\n",
    "# resize images\n",
    "image = cv2.resize(image, (500, 400))\n",
    "\n",
    "# Define Prewitt kernels\n",
    "kernel_x = np.array([[1, -1, -1], \n",
    "                     [0, 0, 0], \n",
    "                     [1, 1, 1]])\n",
    "\n",
    "kernel_y = np.array([[-1, 0, 1],\n",
    "                     [-1, 0, 1],\n",
    "                     [-1, 0, 1]])\n",
    "\n",
    "# Apply Prewitt edge detection\n",
    "prewitt_x = cv2.filter2D(image, -1, kernel_x)\n",
    "prewitt_y = cv2.filter2D(image, -1, kernel_y)\n",
    "\n",
    "# Compute magnitude of gradients manually\n",
    "prewitt_combined = np.sqrt(np.square(prewitt_x) + np.square(prewitt_y))\n",
    "\n",
    "# Display the original image and the Prewitt edges\n",
    "cv2.imshow('Original', image)\n",
    "cv2.imshow('Prewitt Edges', np.uint8(prewitt_combined))\n",
    "\n",
    "# Wait for a key press and then clean up\n",
    "cv2.waitKey(0)\n",
    "cv2.destroyAllWindows()"
   ]
  },
  {
   "cell_type": "markdown",
   "metadata": {},
   "source": [
    "##### Robert Operator"
   ]
  },
  {
   "cell_type": "code",
   "execution_count": 13,
   "metadata": {},
   "outputs": [],
   "source": [
    "import cv2\n",
    "import numpy as np\n",
    "\n",
    "# Load the image\n",
    "image = cv2.imread('img/oyinda.jpg', cv2.IMREAD_GRAYSCALE)\n",
    "\n",
    "# Perform Gaussian Blur\n",
    "image = cv2.GaussianBlur(image, (5, 5), 0)\n",
    "\n",
    "# Define Robert Kernels\n",
    "kernel_x = np.array([[0, 1],\n",
    "                     [-1, 0]])\n",
    "\n",
    "# Apply Robert edge detection\n",
    "robert_x = cv2.filter2D(image, -1, kernel_x)\n",
    "robert_y = cv2.filter2D(image, -1, kernel_y)\n",
    "\n",
    "# Combine the gradient images\n",
    "robert_combined = np.sqrt(np.square(robert_x) + np.square(robert_y))\n",
    "\n",
    "# Display the original image and the Robert edges\n",
    "cv2.imshow('Original', image)\n",
    "cv2.imshow('Robert Edges', np.uint8(robert_combined))\n",
    "\n",
    "# Wait for a key press and then clean up\n",
    "cv2.waitKey(0)\n",
    "cv2.destroyAllWindows()"
   ]
  },
  {
   "cell_type": "markdown",
   "metadata": {},
   "source": [
    "##### Laplacian Operator"
   ]
  },
  {
   "cell_type": "code",
   "execution_count": 1,
   "metadata": {},
   "outputs": [],
   "source": [
    "import cv2\n",
    "\n",
    "# Load the image\n",
    "image =  cv2.imread('img/oyinda.jpg', cv2.IMREAD_GRAYSCALE)\n",
    "\n",
    "# resize images\n",
    "image = cv2.resize(image, (400, 400))\n",
    "\n",
    "# Apply Laplacian Edge Detection\n",
    "laplacian = cv2.Laplacian(image, cv2.CV_64F)\n",
    "\n",
    "# Convert the ouput to an 8-bit image\n",
    "laplacian = cv2.convertScaleAbs(laplacian)\n",
    "\n",
    "# Display the original image and the laplacian edges\n",
    "cv2.imshow('Original', image)\n",
    "cv2.imshow('Laplacian Edges', laplacian)\n",
    "\n",
    "# Wait for a key press and close all windows\n",
    "cv2.waitKey(0)\n",
    "cv2.destroyAllWindows()"
   ]
  },
  {
   "cell_type": "markdown",
   "metadata": {},
   "source": [
    "##### Canny Operator"
   ]
  },
  {
   "cell_type": "code",
   "execution_count": 2,
   "metadata": {},
   "outputs": [],
   "source": [
    "import cv2\n",
    "\n",
    "# Load the image\n",
    "image =  cv2.imread('img/oyinda.jpg', cv2.IMREAD_GRAYSCALE)\n",
    "\n",
    "# resize images\n",
    "image = cv2.resize(image, (400, 400))\n",
    "\n",
    "# Perform Canny edge detection\n",
    "edges = cv2.Canny(image, 100, 200) #Adjust the threshold values as needed\n",
    "\n",
    "# Display the original image and the detected edges\n",
    "cv2.imshow(\"Original Image\", image)\n",
    "cv2.imshow('Edges', edges)\n",
    "\n",
    "# Wait for a key press and close all windows\n",
    "cv2.waitKey(0)\n",
    "cv2.destroyAllWindows()"
   ]
  }
 ],
 "metadata": {
  "kernelspec": {
   "display_name": "Python 3",
   "language": "python",
   "name": "python3"
  },
  "language_info": {
   "codemirror_mode": {
    "name": "ipython",
    "version": 3
   },
   "file_extension": ".py",
   "mimetype": "text/x-python",
   "name": "python",
   "nbconvert_exporter": "python",
   "pygments_lexer": "ipython3",
   "version": "3.10.11"
  }
 },
 "nbformat": 4,
 "nbformat_minor": 2
}
