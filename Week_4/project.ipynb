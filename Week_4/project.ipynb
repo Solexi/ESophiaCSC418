{
 "cells": [
  {
   "cell_type": "code",
   "execution_count": 1,
   "metadata": {},
   "outputs": [],
   "source": [
    "import cv2 as cv\n",
    "import os\n",
    "import matplotlib.pyplot as plt\n",
    "import numpy as np"
   ]
  },
  {
   "cell_type": "markdown",
   "metadata": {},
   "source": [
    "##### Sobel Operator"
   ]
  },
  {
   "cell_type": "code",
   "execution_count": 2,
   "metadata": {},
   "outputs": [],
   "source": [
    "def sobel_operator(image):\n",
    "    # Sobel Operator\n",
    "    sobel_x = cv.Sobel(image, cv.CV_64F, 1, 0, ksize=3)\n",
    "    sobel_y = cv.Sobel(image, cv.CV_64F, 0, 1, ksize=3)\n",
    "\n",
    "    sobel_combined = cv.magnitude(sobel_x, sobel_y)\n",
    "\n",
    "    cv.imshow('Original', image)\n",
    "    cv.imshow('Sobel Edges', np.uint8(sobel_combined))\n",
    "\n",
    "    cv.waitKey(0)\n",
    "    cv.destroyAllWindows()"
   ]
  },
  {
   "cell_type": "markdown",
   "metadata": {},
   "source": [
    "##### Prewitt Operator"
   ]
  },
  {
   "cell_type": "code",
   "execution_count": 3,
   "metadata": {},
   "outputs": [],
   "source": [
    "\n",
    "def prewitt_operator(image):\n",
    "    image = cv.resize(image, (500, 400))\n",
    "\n",
    "    kernel_x = np.array([[-1, -1, -1], [0, 0, 0], [1, 1, 1]])\n",
    "    kernel_y = np.array([[-1, 0, 1], [-1, 0, 1], [-1, 0, 1]])\n",
    "\n",
    "    prewitt_x = cv.filter2D(image, -1, kernel_x)\n",
    "    prewitt_y = cv.filter2D(image, -1, kernel_y)\n",
    "\n",
    "    prewitt_combined = np.sqrt(np.square(prewitt_x) + np.square(prewitt_y))\n",
    "\n",
    "    cv.imshow('Original', image)\n",
    "    cv.imshow('Prewitt Edges', np.uint8(prewitt_combined))\n",
    "\n",
    "    cv.waitKey(0)\n",
    "    cv.destroyAllWindows()"
   ]
  },
  {
   "cell_type": "markdown",
   "metadata": {},
   "source": [
    "##### Laplacian Operator"
   ]
  },
  {
   "cell_type": "code",
   "execution_count": 4,
   "metadata": {},
   "outputs": [],
   "source": [
    "\n",
    "def laplacian_operator(image):\n",
    "    image = cv.resize(image, (400, 400))\n",
    "\n",
    "    # image = cv2.GuaussianBlur(image, (5, 5), 0)\n",
    "\n",
    "    laplacian = cv.Laplacian(image, cv.CV_64F)\n",
    "    laplacian = cv.convertScaleAbs(laplacian)\n",
    "\n",
    "    cv.imshow('Original', image)\n",
    "    cv.imshow('Laplacian Edges', np.uint8(laplacian))\n",
    "\n",
    "    cv.waitKey(0)\n",
    "    cv.destroyAllWindows()"
   ]
  },
  {
   "cell_type": "markdown",
   "metadata": {},
   "source": [
    "##### Robert Operator"
   ]
  },
  {
   "cell_type": "code",
   "execution_count": 7,
   "metadata": {},
   "outputs": [],
   "source": [
    "\n",
    "def robert_operator(image):\n",
    "    image = cv.GaussianBlur(image, (5, 5), 0)\n",
    "\n",
    "    kernel_x = np.array([[1, 0], [0, -1]])\n",
    "    kernel_y = np.array([[0, 1], [-1, 0]])\n",
    "\n",
    "    robert_x = cv.filter2D(image, -1, kernel_x)\n",
    "    robert_y = cv.filter2D(image, -1, kernel_y)\n",
    "\n",
    "    robert_combined = np.sqrt(np.square(robert_x) + np.square(robert_y))\n",
    "\n",
    "    cv.imshow('Original', image)\n",
    "    cv.imshow('Robert Edges', np.uint8(robert_combined))\n",
    "\n",
    "    cv.waitKey(0)\n",
    "    cv.destroyAllWindows()"
   ]
  },
  {
   "cell_type": "markdown",
   "metadata": {},
   "source": [
    "##### Canny Operator"
   ]
  },
  {
   "cell_type": "code",
   "execution_count": 8,
   "metadata": {},
   "outputs": [],
   "source": [
    "\n",
    "def canny_operator(image):\n",
    "    image = cv.resize(image, (400, 400))\n",
    "\n",
    "    canny = cv.Canny(image, 100, 200)\n",
    "\n",
    "    cv.imshow('Original', image)\n",
    "    cv.imshow('Canny Edges', np.uint8(canny))\n",
    "\n",
    "    cv.waitKey(0)\n",
    "    cv.destroyAllWindows()\n"
   ]
  },
  {
   "cell_type": "markdown",
   "metadata": {},
   "source": [
    "#### CV Algorithm"
   ]
  },
  {
   "cell_type": "code",
   "execution_count": 11,
   "metadata": {},
   "outputs": [
    {
     "name": "stdout",
     "output_type": "stream",
     "text": [
      "Welcome!!, you perform the following operations on the image\n",
      "1. Sobel Operator\n",
      "2. Prewitt Operator\n",
      "3. Laplacian Operator\n",
      "4. Robert Operator\n",
      "5. Canny Operator\n"
     ]
    }
   ],
   "source": [
    "image = cv.imread('img/oyinda.jpg', cv.IMREAD_GRAYSCALE)\n",
    "\n",
    "print(\"Welcome!!, you perform the following operations on the image\")\n",
    "print(\"1. Sobel Operator\")\n",
    "print(\"2. Prewitt Operator\")\n",
    "print(\"3. Laplacian Operator\")\n",
    "print(\"4. Robert Operator\")\n",
    "print(\"5. Canny Operator\")\n",
    "operation = int(input(\"Input the number of the operation you want to perform: \"))\n",
    "\n",
    "\n",
    "if operation == 1:\n",
    "    sobel_operator(image)\n",
    "elif operation == 2:\n",
    "    prewitt_operator(image)\n",
    "elif operation == 3:\n",
    "    laplacian_operator(image)\n",
    "elif operation == 4:\n",
    "    robert_operator(image)\n",
    "elif operation == 5:\n",
    "    canny_operator(image)"
   ]
  }
 ],
 "metadata": {
  "kernelspec": {
   "display_name": "Python 3",
   "language": "python",
   "name": "python3"
  },
  "language_info": {
   "codemirror_mode": {
    "name": "ipython",
    "version": 3
   },
   "file_extension": ".py",
   "mimetype": "text/x-python",
   "name": "python",
   "nbconvert_exporter": "python",
   "pygments_lexer": "ipython3",
   "version": "3.10.11"
  }
 },
 "nbformat": 4,
 "nbformat_minor": 2
}
