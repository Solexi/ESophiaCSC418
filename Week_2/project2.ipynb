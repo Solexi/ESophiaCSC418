{
 "cells": [
  {
   "cell_type": "code",
   "execution_count": 89,
   "metadata": {},
   "outputs": [],
   "source": [
    "import cv2\n",
    "import matplotlib.pyplot as plt\n",
    "import numpy as np"
   ]
  },
  {
   "cell_type": "code",
   "execution_count": 90,
   "metadata": {},
   "outputs": [],
   "source": [
    "pictures = {\"abba\": \"images/abba.jpg\", \"alo\": \"images/alo.jpg\", \"anjola\": \"images/anjola.jpg\", \"fatima\": \"images/fatima.jpg\", \"francis\": \"images/francis.jpg\", \"keisha\": \"images/keisha.jpg\", \"lotanna\": \"images/lotanna.jpg\", \"oge\": \"images/oge.jpg\", \"oyinda\": \"images/oyinda.jpg\", \"sope\": \"images/sope.jpg\", \"wendy\": \"images/wendy.jpg\", \"zion\": \"images/zion.jpg\"}\n"
   ]
  },
  {
   "cell_type": "markdown",
   "metadata": {},
   "source": [
    "#### Arithmetic Operations"
   ]
  },
  {
   "cell_type": "code",
   "execution_count": 91,
   "metadata": {},
   "outputs": [],
   "source": [
    "def arithmetic_operation(img):\n",
    "    default_img = cv2.imread('images/default.jpeg')\n",
    "\n",
    "    user_img = cv2.imread(img)  # for testing purpose\n",
    "\n",
    "    # resize images\n",
    "    default_img = cv2.resize(default_img, (500, 400))\n",
    "    user_img = cv2.resize(user_img, (500, 400))\n",
    "\n",
    "    addImage = cv2.addWeighted(default_img, 0.5, user_img, 0.6, 0)\n",
    "\n",
    "    # show output image\n",
    "    cv2.imshow('Weighted Image', addImage)\n",
    "\n",
    "    # De-allocate any available memory\n",
    "    if cv2.waitKey(0) & 0xff == 27:\n",
    "        cv2.destroyAllWindows()\n",
    "\n",
    "# arithmetic_operation('images/abba.jpg')"
   ]
  },
  {
   "cell_type": "markdown",
   "metadata": {},
   "source": [
    "#### Adjusting Brightness & Contrast"
   ]
  },
  {
   "cell_type": "code",
   "execution_count": 92,
   "metadata": {},
   "outputs": [],
   "source": [
    "def adjust_brightness_contrast(img):\n",
    "    user_img = cv2.imread(img) #\n",
    "\n",
    "    plt.subplot(1, 2, 1)\n",
    "    plt.title(\"Original\")\n",
    "    plt.imshow(user_img)\n",
    "\n",
    "    brightness = 15\n",
    "    contrast = 2.5\n",
    "\n",
    "    contrast_img = cv2.addWeighted(user_img, contrast, np.zeros(user_img.shape, user_img.dtype), 0, brightness)\n",
    "\n",
    "    cv2.imwrite(f'images/contrast_{img.split(\".\", 1)[0]}.jpg', contrast_img)\n",
    "    plt.subplot(1, 2, 2)\n",
    "    plt.title(\"Brightness & Contrast\")\n",
    "    plt.imshow(contrast_img)\n",
    "    plt.show()\n",
    "\n",
    "# adjust_brightness_contrast('images/abba.jpg')"
   ]
  },
  {
   "cell_type": "markdown",
   "metadata": {},
   "source": [
    "##### Sharpening of Images"
   ]
  },
  {
   "cell_type": "code",
   "execution_count": 93,
   "metadata": {},
   "outputs": [],
   "source": [
    "def sharpening_images(img):\n",
    "    user_img = cv2.imread(img)\n",
    "    plt.subplot(1, 2, 1)\n",
    "    plt.title(\"Original\")\n",
    "    plt.imshow(user_img)\n",
    "    \n",
    "    kernel = np.array([[0, -1, 0],[-1,5,-1], [0, -1, 0]])\n",
    "    \n",
    "    sharpened_img = cv2.filter2D(user_img, -1, kernel)\n",
    "    \n",
    "    cv2.imwrite(f'images/sharpened_{img.split(\".\", 1)[0]}.jpg', sharpened_img)\n",
    "    \n",
    "    plt.subplot(1, 2, 2)\n",
    "    plt.title(\"Sharpening\")\n",
    "    plt.imshow(sharpened_img)\n",
    "    plt.show()\n",
    "\n",
    "# sharpening_images('images/abba.jpg')\n"
   ]
  },
  {
   "cell_type": "markdown",
   "metadata": {},
   "source": [
    "##### Removing Noise"
   ]
  },
  {
   "cell_type": "code",
   "execution_count": 94,
   "metadata": {},
   "outputs": [],
   "source": [
    "def removing_noise(img):\n",
    "    user_img = cv2.imread(img)\n",
    "    \n",
    "    plt.subplot(1, 2, 1)\n",
    "    plt.title(\"Original\")\n",
    "    plt.imshow(user_img)\n",
    "    \n",
    "    filtered_image = cv2.medianBlur(user_img, 15)\n",
    "    \n",
    "    cv2.imwrite(f'images/filtered_{img.split(\".\", 1)[0]}.jpg', filtered_image)\n",
    "    \n",
    "    plt.subplot(1, 2, 2)\n",
    "    plt.title(\"Filtered\")\n",
    "    plt.imshow(filtered_image)\n",
    "    plt.show()\n",
    "\n",
    "# removing_noise('images/abba.jpg')"
   ]
  },
  {
   "cell_type": "markdown",
   "metadata": {},
   "source": [
    "##### Scaling of Images"
   ]
  },
  {
   "cell_type": "code",
   "execution_count": 95,
   "metadata": {},
   "outputs": [],
   "source": [
    "def image_scaling(img):\n",
    "    user_img= cv2.imread(img)\n",
    "    \n",
    "    plt.subplot(1, 2, 1)\n",
    "    plt.title(\"Original\")\n",
    "    plt.imshow(user_img)\n",
    "    \n",
    "    scaled_img = cv2.resize(user_img, None, fx=2, fy=2)\n",
    "    \n",
    "    cv2.imwrite(f'images/scaled_{img.split(\".\", 1)[0]}.jpg', scaled_img)\n",
    "    \n",
    "    plt.subplot(1, 2, 2)\n",
    "    plt.title(\"Scaled\")\n",
    "    plt.imshow(scaled_img)\n",
    "    plt.show()\n",
    "    \n",
    "# image_scaling('images/abba.jpg')"
   ]
  },
  {
   "cell_type": "markdown",
   "metadata": {},
   "source": [
    "##### Inverse Transformation"
   ]
  },
  {
   "cell_type": "code",
   "execution_count": 96,
   "metadata": {},
   "outputs": [],
   "source": [
    "def inverse_transform(img):\n",
    "    user_img = cv2.imread(img)\n",
    "    \n",
    "    plt.subplot(1, 2, 1)\n",
    "    plt.title(\"Original\")\n",
    "    plt.imshow(user_img)\n",
    "    \n",
    "    inversed_img = 255 - user_img\n",
    "    \n",
    "    cv2.imwrite(f'images/inverse_{img.split(\".\", 1)[0]}.jpg', inversed_img)\n",
    "    \n",
    "    plt.subplot(1, 2, 2)\n",
    "    plt.title(\"Inverse Color\")\n",
    "    plt.imshow(inversed_img)\n",
    "    plt.show()\n",
    "    \n",
    "# inverse_transform('images/abba.jpg')"
   ]
  },
  {
   "cell_type": "markdown",
   "metadata": {},
   "source": [
    "##### Image Enhancement Program"
   ]
  },
  {
   "cell_type": "code",
   "execution_count": 97,
   "metadata": {},
   "outputs": [
    {
     "name": "stdout",
     "output_type": "stream",
     "text": [
      "Hello {username}, please select the operation you want to perform on the image\n",
      "1. Addition of Images\n",
      "2. Adjust Brightness and Contrast\n",
      "3. Sharpen Image\n",
      "4. Remove Noise\n",
      "5. Image Scaling\n",
      "6. Inverse Transformations\n"
     ]
    }
   ],
   "source": [
    "username = input(\"Enter your username: \")\n",
    "matno = input(\"Enter your matrix number: \")\n",
    "\n",
    "if username in pictures:\n",
    "    img = pictures[username]1\n",
    "    print(\"Hello {username}, please select the operation you want to perform on the image\")\n",
    "    print(\"1. Addition of Images\")\n",
    "    print(\"2. Adjust Brightness and Contrast\")\n",
    "    print(\"3. Sharpen Image\")\n",
    "    print(\"4. Remove Noise\")\n",
    "    print(\"5. Image Scaling\")\n",
    "    print(\"6. Inverse Transformations\")\n",
    "    \n",
    "    operation = int(input(\"Enter the respective number of your selected operation\"))\n",
    "    \n",
    "    if operation == 1:\n",
    "        arithmetic_operation(img)\n",
    "    elif operation == 2:\n",
    "        adjust_brightness_contrast(img)\n",
    "    elif operation == 3:\n",
    "        sharpening_images(img)\n",
    "    elif operation == 4:\n",
    "        removing_noise(img)\n",
    "    elif operation == 5:\n",
    "        image_scaling(img)\n",
    "    elif operation == 6:\n",
    "        inverse_transform(img)\n",
    "    else:\n",
    "        print(\"Invalid number entered!\")\n",
    "\n",
    "else:\n",
    "    print(\"User does not exist!\")\n"
   ]
  },
  {
   "cell_type": "code",
   "execution_count": null,
   "metadata": {},
   "outputs": [],
   "source": []
  }
 ],
 "metadata": {
  "kernelspec": {
   "display_name": "Python 3",
   "language": "python",
   "name": "python3"
  },
  "language_info": {
   "codemirror_mode": {
    "name": "ipython",
    "version": 3
   },
   "file_extension": ".py",
   "mimetype": "text/x-python",
   "name": "python",
   "nbconvert_exporter": "python",
   "pygments_lexer": "ipython3",
   "version": "3.10.11"
  }
 },
 "nbformat": 4,
 "nbformat_minor": 2
}
