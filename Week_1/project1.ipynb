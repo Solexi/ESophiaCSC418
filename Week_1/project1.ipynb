{
 "cells": [
  {
   "cell_type": "code",
   "execution_count": 4,
   "metadata": {},
   "outputs": [
    {
     "name": "stdout",
     "output_type": "stream",
     "text": [
      "4.9.0\n"
     ]
    }
   ],
   "source": [
    "import cv2\n",
    "print(cv2.__version__)"
   ]
  },
  {
   "cell_type": "code",
   "execution_count": 8,
   "metadata": {},
   "outputs": [
    {
     "name": "stdout",
     "output_type": "stream",
     "text": [
      "Welcome Sola oni!\n"
     ]
    }
   ],
   "source": [
    "# members = [\"adaora\", \"chris\", \"darlington\", \"enase\", \"ikechukwu\", \"peter\", \"sola\", \"nneka\"]\n",
    "members = {\"adaora\": [\"onaga\", \"images/adaora.jpg\"], \"chris\": [\"ogbechie\", \"images/chris.jpg\"], \"darlington\": [\"agholor\", \"images/darlington.jpg\"], \"enase\": [\"okonedo\", \"images/enase.jpg\"], \"ikechukwu\": [\"obiaya\", \"images/ikechukwu.jpg\"], \"peter\": [\"bamkole\", \"images/peter.jpg\"], \"sola\": [\"oni\", \"images/sola.jpg\"], \"nneka\": [\"okekearu\", \"images/nneka.jpg\"]}\n",
    "\n",
    "username = input(\"Enter username: \").lower().strip()\n",
    "password = int(input(\"Enter password (Your password should be the length of your surname): \"))\n",
    "               \n",
    "if username in members and password == len(members[username][0]):\n",
    "    img_path = members[username][1]\n",
    "    full_name = (username + \" \" + members[username][0]).capitalize()\n",
    "    print(f\"Welcome {full_name}!\")\n",
    "    \n",
    "    if img_path:\n",
    "        img = cv2.imread(img_path)\n",
    "        cv2.imshow(full_name, img)\n",
    "        cv2.waitKey(0)\n",
    "        cv2.destroyAllWindows()\n",
    "    else:\n",
    "        print(\"No profile picture found.\")\n",
    "else:\n",
    "    print(\"Incorrect login details\")"
   ]
  }
 ],
 "metadata": {
  "kernelspec": {
   "display_name": "Python 3",
   "language": "python",
   "name": "python3"
  },
  "language_info": {
   "codemirror_mode": {
    "name": "ipython",
    "version": 3
   },
   "file_extension": ".py",
   "mimetype": "text/x-python",
   "name": "python",
   "nbconvert_exporter": "python",
   "pygments_lexer": "ipython3",
   "version": "3.10.11"
  }
 },
 "nbformat": 4,
 "nbformat_minor": 2
}
